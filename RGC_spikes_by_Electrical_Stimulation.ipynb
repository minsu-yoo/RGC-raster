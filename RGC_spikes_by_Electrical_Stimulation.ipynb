{
  "nbformat": 4,
  "nbformat_minor": 0,
  "metadata": {
    "colab": {
      "name": "RGC_spikes_by_Electrical_Stimulation.ipynb",
      "provenance": [],
      "authorship_tag": "ABX9TyMfullw1yWIKfEm7cap1Thg",
      "include_colab_link": true
    },
    "kernelspec": {
      "name": "python3",
      "display_name": "Python 3"
    },
    "language_info": {
      "name": "python"
    }
  },
  "cells": [
    {
      "cell_type": "markdown",
      "metadata": {
        "id": "view-in-github",
        "colab_type": "text"
      },
      "source": [
        "<a href=\"https://colab.research.google.com/github/minsu-yoo/RGC-raster/blob/main/RGC_spikes_by_Electrical_Stimulation.ipynb\" target=\"_parent\"><img src=\"https://colab.research.google.com/assets/colab-badge.svg\" alt=\"Open In Colab\"/></a>"
      ]
    },
    {
      "cell_type": "markdown",
      "metadata": {
        "id": "iH6VOKk8xmsr"
      },
      "source": [
        "Google drive 에 data 파일이 있을 경우 Path 를 설정해줍니다. "
      ]
    },
    {
      "cell_type": "code",
      "metadata": {
        "colab": {
          "base_uri": "https://localhost:8080/"
        },
        "id": "801RQXsGxXht",
        "outputId": "bcbe871b-d3c2-4a3b-c2ec-5afcab968058"
      },
      "source": [
        "from google.colab import drive\n",
        "drive.mount('/content/drive')  \n",
        "\n",
        "!ls \"/content/drive/My Drive\"  \n",
        "!cp \"/content/drive/My Drive/mtSpikeTimes.mat\" \"mtSpikeTimes.mat\"  #copy 를 합니다. \n",
        "!cp \"/content/drive/My Drive/Data.mat\" \"Data.mat\"  #copy 를 합니다. \n",
        "!cp \"/content/drive/My Drive/ChaData.mat\" \"ChaData.mat\"  #copy 를 합니다. \n",
        "!cp \"/content/drive/My Drive/20200707_WT3_stim_info.xlsx\" \"20200707_WT3_stim_info.xlsx\"  #copy 를 합니다. \n",
        "\n",
        "\n",
        "\n",
        "from scipy.io import loadmat  #MATLAB file 을 불러올 수 있게 library 를 import 한다. \n",
        "mtSpikes = loadmat('mtSpikeTimes.mat')\n",
        "import numpy\n"
      ],
      "execution_count": 4,
      "outputs": [
        {
          "output_type": "stream",
          "text": [
            "Drive already mounted at /content/drive; to attempt to forcibly remount, call drive.mount(\"/content/drive\", force_remount=True).\n",
            " 20200707_WT3_stim_info.xlsx  'Colab Notebooks'   mtSpikeTimes.mat\n",
            " ChaData.mat\t\t       Data.mat\n"
          ],
          "name": "stdout"
        }
      ]
    },
    {
      "cell_type": "code",
      "metadata": {
        "id": "8uRkXj0Pxxkg"
      },
      "source": [
        "import numpy\n",
        "from scipy.io import loadmat  #MATLAB file 을 불러올 수 있게 library 를 import 한다. \n",
        "import matplotlib.pyplot as plt\n",
        "import seaborn as sns  #more beautiful tool for drawing \n",
        "\n",
        "raw_rgc_spikes = loadmat('ChaData.mat')"
      ],
      "execution_count": 5,
      "outputs": []
    },
    {
      "cell_type": "code",
      "metadata": {
        "id": "xkB-33jOyKDo"
      },
      "source": [
        "# Readout Excel file of Stimulation information\n",
        "import pandas as pd\n",
        "\n",
        "stim_info = pd.read_excel('20200707_WT3_stim_info.xlsx', index_col=0)  \n",
        "np_stim = stim_info.to_numpy()  #panda data type을 numpy 형태로 불러냅니다. \n",
        "\n",
        "#put the information as matrix form"
      ],
      "execution_count": 7,
      "outputs": []
    },
    {
      "cell_type": "markdown",
      "metadata": {
        "id": "sQSOK7Q_yjeg"
      },
      "source": [
        "우선은 가장 센 stimulus를 대상으로 분석하였습니다. "
      ]
    },
    {
      "cell_type": "code",
      "metadata": {
        "id": "Ay4HYiVJyMby"
      },
      "source": [
        "light_start_index = 4 #light stimulation \n",
        "\n",
        "es_index = 18 #Electrical stimulation starting index\n",
        "\n",
        "\n",
        "ls50_column = 0\n",
        "ls100_column = 4\n",
        "\n",
        "\n",
        "ls100_stim = np_stim[light_start_index:light_start_index+10,4]\n",
        "es_stim = np_stim[es_index:es_index+20,4]"
      ],
      "execution_count": 8,
      "outputs": []
    },
    {
      "cell_type": "markdown",
      "metadata": {
        "id": "IXQMEGjHypNt"
      },
      "source": [
        "Channel 의 이름과 Spike 정보들을 연결시켜서 dictionary 형태로 담아줍니다. "
      ]
    },
    {
      "cell_type": "code",
      "metadata": {
        "id": "JljVC0zeynP4"
      },
      "source": [
        "ch_label = []  \n",
        "ch_spikes = []\n",
        "\n",
        "for key, value in raw_rgc_spikes.items():\n",
        "    ch_label.append(key)\n",
        "    ch_spikes.append(value)\n",
        "    \n",
        "    \n",
        "spike_dict = {}\n",
        "total_channel_n = len(raw_rgc_spikes.keys())\n",
        "\n",
        "for i in range(4,total_channel_n):\n",
        "    chN = int(ch_label[i][3:5])  #Channel number ex) '12'\n",
        "    chN_string = ch_label[i][3:6]\n",
        "    spike_dict[chN_string] = ch_spikes[i]"
      ],
      "execution_count": 9,
      "outputs": []
    },
    {
      "cell_type": "code",
      "metadata": {
        "id": "bRGRd62xyrIM"
      },
      "source": [
        "spike_labels = list(spike_dict.keys())"
      ],
      "execution_count": 10,
      "outputs": []
    },
    {
      "cell_type": "code",
      "metadata": {
        "colab": {
          "base_uri": "https://localhost:8080/"
        },
        "id": "iGKSA9igytHA",
        "outputId": "9fac7e73-aa19-4f42-f8bb-93202d46c9ba"
      },
      "source": [
        "print(spike_labels[0])  # 순서대로 spike 들을 볼 수 있다.\n",
        "spikes = spike_dict[spike_labels[0]]\n",
        "\n"
      ],
      "execution_count": 12,
      "outputs": [
        {
          "output_type": "stream",
          "text": [
            "12a\n"
          ],
          "name": "stdout"
        }
      ]
    },
    {
      "cell_type": "code",
      "metadata": {
        "colab": {
          "base_uri": "https://localhost:8080/",
          "height": 279
        },
        "id": "Z7UbdrR4yujm",
        "outputId": "7dffbe15-a997-4549-de1d-c3891e738a05"
      },
      "source": [
        "spikes_by_trial = []\n",
        "trial_spikes = []\n",
        "\n",
        "\n",
        "stim_duration = es_stim[1] - es_stim[0]\n",
        "for stim_index in range(len(es_stim)):\n",
        "    spikes_by_trial.append([i for i in spikes if (es_stim[stim_index] <i < es_stim[stim_index] + stim_duration)])\n",
        "    trial_spikes.append( [i - es_stim[stim_index] for i in spikes if (es_stim[stim_index] <i < es_stim[stim_index] + stim_duration)]) \n",
        "    plt.vlines(trial_spikes[stim_index], stim_index-.5 , stim_index+.5)\n",
        "    \n",
        "\n",
        "\n",
        "plt.xlabel('time(s)')\n",
        "plt.ylabel('Trial')\n",
        "\n",
        "plt.rcParams.update({'font.size': 15})\n",
        "plt.rc('xtick', labelsize=15) \n",
        "plt.rc('ytick', labelsize=15) "
      ],
      "execution_count": 13,
      "outputs": [
        {
          "output_type": "display_data",
          "data": {
            "image/png": "[encoded data removed]",
            "text/plain": [
              "<Figure size 432x288 with 1 Axes>"
            ]
          },
          "metadata": {
            "tags": [],
            "needs_background": "light"
          }
        }
      ]
    },
    {
      "cell_type": "code",
      "metadata": {
        "colab": {
          "base_uri": "https://localhost:8080/",
          "height": 289
        },
        "id": "4uMpvV51y1p3",
        "outputId": "ba0afd88-1f70-4b87-952c-04e40b12a1cf"
      },
      "source": [
        "flat_list = [item for sublist in trial_spikes for item in sublist]\n",
        "\n",
        "Spikes_in_oneLine = numpy.asarray(flat_list)\n",
        "\n",
        "ax = sns.histplot(Spikes_in_oneLine, bins = 10,legend = None)\n",
        "ax.set(xlabel='time(s)', ylabel='Number of Spikes')\n",
        "plt.show()"
      ],
      "execution_count": 14,
      "outputs": [
        {
          "output_type": "display_data",
          "data": {
            "image/png": "[encoded data removed]",
            "text/plain": [
              "<Figure size 432x288 with 1 Axes>"
            ]
          },
          "metadata": {
            "tags": [],
            "needs_background": "light"
          }
        }
      ]
    },
    {
      "cell_type": "code",
      "metadata": {
        "id": "TTm1yZZSy4Hu"
      },
      "source": [
        "def show_me_the_spikes(cell_id):\n",
        "    spikes = spike_dict[spike_labels[cell_id]]\n",
        "    ch_id = spike_labels[cell_id] #string in channel ID\n",
        "    spikes_by_trial = []\n",
        "    trial_spikes = []\n",
        "\n",
        "\n",
        "    stim_duration = es_stim[1] - es_stim[0]\n",
        "    for stim_index in range(len(es_stim)):\n",
        "        spikes_by_trial.append([i for i in spikes if (es_stim[stim_index] <i < es_stim[stim_index] + stim_duration)])\n",
        "        trial_spikes.append( [i - es_stim[stim_index] for i in spikes if (es_stim[stim_index] <i < es_stim[stim_index] + stim_duration)]) \n",
        "        plt.vlines(trial_spikes[stim_index], stim_index-.5 , stim_index+.5)\n",
        "\n",
        "\n",
        "\n",
        "    plt.xlabel('time(s)')\n",
        "    plt.ylabel('Trial')\n",
        "    plt.title(ch_id)\n",
        "\n",
        "    plt.rcParams.update({'font.size': 15})\n",
        "    plt.rc('xtick', labelsize=15) \n",
        "    plt.rc('ytick', labelsize=15) \n",
        "    \n",
        "    flat_list = [item for sublist in trial_spikes for item in sublist]\n",
        "\n",
        "    Spikes_in_oneLine = numpy.asarray(flat_list)\n",
        "    plt.figure()\n",
        "\n",
        "    ax = sns.histplot(Spikes_in_oneLine, bins = 10,legend = None)\n",
        "    ax.set(xlabel='time(s)', ylabel='Number of Spikes')\n",
        "    plt.show()\n",
        "\n",
        "\n",
        "\n",
        "    \n",
        "    \n",
        "    \n",
        "    "
      ],
      "execution_count": 15,
      "outputs": []
    },
    {
      "cell_type": "code",
      "metadata": {
        "colab": {
          "base_uri": "https://localhost:8080/",
          "height": 581
        },
        "id": "Al8TOfECy6BM",
        "outputId": "c1279c40-0cad-42cf-d7f1-af0e171828d6"
      },
      "source": [
        "show_me_the_spikes(101)  #101 번째 neuron의 반응을 봅니다. "
      ],
      "execution_count": 17,
      "outputs": [
        {
          "output_type": "display_data",
          "data": {
            "image/png": "[encoded data removed]",
            "text/plain": [
              "<Figure size 432x288 with 1 Axes>"
            ]
          },
          "metadata": {
            "tags": [],
            "needs_background": "light"
          }
        },
        {
          "output_type": "display_data",
          "data": {
            "image/png": "[encoded data removed]",
            "text/plain": [
              "<Figure size 432x288 with 1 Axes>"
            ]
          },
          "metadata": {
            "tags": [],
            "needs_background": "light"
          }
        }
      ]
    },
    {
      "cell_type": "code",
      "metadata": {
        "id": "NEdFkjAoy8Wl"
      },
      "source": [
        ""
      ],
      "execution_count": null,
      "outputs": []
    }
  ]
}